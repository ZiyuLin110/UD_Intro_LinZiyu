{
 "cells": [
  {
   "cell_type": "markdown",
   "id": "38e188a5",
   "metadata": {},
   "source": [
    "# Exercise 00\n",
    "Write a piece of code that allocates a list of 20 integers and initializes each element by its index multiplied by 5. Print the result."
   ]
  },
  {
   "cell_type": "code",
   "execution_count": 9,
   "id": "01aa4f35",
   "metadata": {},
   "outputs": [
    {
     "name": "stdout",
     "output_type": "stream",
     "text": [
      "[5, 10, 15, 20, 25, 30, 35, 40, 45, 50, 55, 60, 65, 70, 75, 80, 85, 90, 95]\n"
     ]
    }
   ],
   "source": [
    "integers = [ ]\n",
    "for i in range(1,20):\n",
    "   integers.append(i*5)\n",
    "print(integers)"
   ]
  },
  {
   "cell_type": "markdown",
   "id": "529d91ae",
   "metadata": {},
   "source": [
    "# Exercise 01\n",
    "Define a function that takes an integer as input, prints  all integers that it is divisable by, and returns the largest one."
   ]
  },
  {
   "cell_type": "code",
   "execution_count": 7,
   "id": "3e56ccda",
   "metadata": {},
   "outputs": [],
   "source": [
    " def A(n):\n",
    "    divisors = []\n",
    "    for i in range(1, n + 1):\n",
    "        if n % i == 0:\n",
    "            print(i)  \n",
    "            divisors.append(i) \n",
    "\n",
    "    if len(divisors) > 0:\n",
    "        return max(divisors)\n",
    "      \n",
    "    else:\n",
    "        return None\n",
    "    "
   ]
  },
  {
   "cell_type": "code",
   "execution_count": 6,
   "id": "dac06c2e",
   "metadata": {},
   "outputs": [
    {
     "name": "stdout",
     "output_type": "stream",
     "text": [
      "1\n",
      "2\n",
      "3\n",
      "5\n",
      "6\n",
      "10\n",
      "15\n",
      "30\n",
      "\n"
     ]
    },
    {
     "data": {
      "text/plain": [
       "30"
      ]
     },
     "execution_count": 6,
     "metadata": {},
     "output_type": "execute_result"
    }
   ],
   "source": [
    "A(30)"
   ]
  },
  {
   "cell_type": "markdown",
   "id": "cfbe30d4",
   "metadata": {},
   "source": [
    "# Exercise 02\n",
    "- create a dictionary with 6 keys and values of your choice\n",
    "- write a function that takes a dictionary and a value as input and returns whether the value occurs as a key in the dictionary\n",
    "- write a function that takes a dictionary as input, and returns the dictionary but the keys are swapped with their values (resolve the issue if a value occurs twice!)"
   ]
  },
  {
   "cell_type": "code",
   "execution_count": 26,
   "id": "2123f1c6",
   "metadata": {},
   "outputs": [],
   "source": [
    "DCT = { 'A': '1', 'B': '2', 'C': '3', 'D': '4', 'E': '5', 'F': '6'}"
   ]
  },
  {
   "cell_type": "code",
   "execution_count": 27,
   "id": "4ac69552",
   "metadata": {},
   "outputs": [
    {
     "name": "stdout",
     "output_type": "stream",
     "text": [
      "{'A': '1', 'B': '2', 'C': '3', 'D': '4', 'E': '5', 'F': '6'}\n"
     ]
    }
   ],
   "source": [
    "print(DCT)"
   ]
  },
  {
   "cell_type": "code",
   "execution_count": 28,
   "id": "1c4aa1a0",
   "metadata": {},
   "outputs": [],
   "source": [
    "def N(x,y):\n",
    "    for z in x.keys():\n",
    "        if z==y:\n",
    "            return True\n",
    "    return False  "
   ]
  },
  {
   "cell_type": "code",
   "execution_count": 29,
   "id": "0a5bfe38",
   "metadata": {},
   "outputs": [
    {
     "data": {
      "text/plain": [
       "True"
      ]
     },
     "execution_count": 29,
     "metadata": {},
     "output_type": "execute_result"
    }
   ],
   "source": [
    "N(DCT, 'A')"
   ]
  },
  {
   "cell_type": "code",
   "execution_count": 38,
   "id": "9cd6f453",
   "metadata": {},
   "outputs": [],
   "source": [
    "def M(x):\n",
    "    newDict = {}\n",
    "    for y in x.keys():\n",
    "        newDict[x[y]]=y\n",
    "    return newDict"
   ]
  },
  {
   "cell_type": "code",
   "execution_count": 39,
   "id": "d9f48698",
   "metadata": {},
   "outputs": [
    {
     "data": {
      "text/plain": [
       "{'1': 'A', '2': 'B', '3': 'C', '4': 'D', '5': 'E', '6': 'F'}"
      ]
     },
     "execution_count": 39,
     "metadata": {},
     "output_type": "execute_result"
    }
   ],
   "source": [
    "M(DCT)"
   ]
  },
  {
   "cell_type": "code",
   "execution_count": 42,
   "id": "f138cbb1",
   "metadata": {},
   "outputs": [
    {
     "data": {
      "text/plain": [
       "{1: 'a', 2: ['b', 'd'], 3: 'c'}"
      ]
     },
     "execution_count": 42,
     "metadata": {},
     "output_type": "execute_result"
    }
   ],
   "source": [
    "dict1 = {'a':1, 'b':2, 'c':3, 'd':2}\n",
    "def M(x):\n",
    "    newDict = {}\n",
    "    for y in x.keys():\n",
    "        if N(newDict,x[y]):\n",
    "            cv = newDict[x[y]]\n",
    "            nv = [cv, y]\n",
    "            newDict[x[y]]=nv\n",
    "        else:\n",
    "            newDict[x[y]]=y\n",
    "    return newDict\n",
    "M(dict1)"
   ]
  },
  {
   "cell_type": "markdown",
   "id": "b4b4e426",
   "metadata": {},
   "source": [
    "# Exercise 03\n",
    "Define a function that creates a dictionary of the first n fibonacci numbers as values paired with their indices as keys. "
   ]
  },
  {
   "cell_type": "code",
   "execution_count": 23,
   "id": "7845b5a4",
   "metadata": {},
   "outputs": [
    {
     "name": "stdout",
     "output_type": "stream",
     "text": [
      "{0: 0, 1: 1, 2: 1, 3: 2, 4: 3, 5: 5, 6: 8, 7: 13, 8: 21, 9: 34, 10: 55, 11: 89, 12: 144, 13: 233, 14: 377}\n"
     ]
    }
   ],
   "source": [
    "def fibonacci_dict(n):\n",
    "    if n <= 0:\n",
    "        return {}  \n",
    "    elif n == 1:\n",
    "        return {0: 0}  \n",
    "    fib_dict = {0: 0, 1: 1}  \n",
    "    for i in range(2, n):\n",
    "       \n",
    "        next_fib = fib_dict[i - 1] + fib_dict[i - 2]\n",
    "        \n",
    "        \n",
    "        fib_dict[i] = next_fib\n",
    "\n",
    "    return fib_dict\n",
    "\n",
    "\n",
    "n = 15\n",
    "result = fibonacci_dict(n)\n",
    "print(result)"
   ]
  }
 ],
 "metadata": {
  "kernelspec": {
   "display_name": "Python 3 (ipykernel)",
   "language": "python",
   "name": "python3"
  },
  "language_info": {
   "codemirror_mode": {
    "name": "ipython",
    "version": 3
   },
   "file_extension": ".py",
   "mimetype": "text/x-python",
   "name": "python",
   "nbconvert_exporter": "python",
   "pygments_lexer": "ipython3",
   "version": "3.8.18"
  }
 },
 "nbformat": 4,
 "nbformat_minor": 5
}
